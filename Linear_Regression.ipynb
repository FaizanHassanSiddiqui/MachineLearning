{
  "nbformat": 4,
  "nbformat_minor": 0,
  "metadata": {
    "colab": {
      "name": "Linear_Regression.ipynb",
      "provenance": [],
      "authorship_tag": "ABX9TyMpptlie2YUZFBGg9jtaEhz",
      "include_colab_link": true
    },
    "kernelspec": {
      "name": "python3",
      "display_name": "Python 3"
    }
  },
  "cells": [
    {
      "cell_type": "markdown",
      "metadata": {
        "id": "view-in-github",
        "colab_type": "text"
      },
      "source": [
        "<a href=\"https://colab.research.google.com/github/FaizanHassanSiddiqui/MachineLearning/blob/main/Linear_Regression.ipynb\" target=\"_parent\"><img src=\"https://colab.research.google.com/assets/colab-badge.svg\" alt=\"Open In Colab\"/></a>"
      ]
    },
    {
      "cell_type": "markdown",
      "metadata": {
        "id": "8RTYV-2Yqfrm"
      },
      "source": [
        "# Linear Regression"
      ]
    },
    {
      "cell_type": "code",
      "metadata": {
        "id": "6qDmr5RiqYnU"
      },
      "source": [
        "from sklearn import datasets\r\n",
        "from sklearn import linear_model\r\n",
        "from sklearn.model_selection import train_test_split\r\n",
        "import matplotlib.pyplot as plt"
      ],
      "execution_count": 1,
      "outputs": []
    },
    {
      "cell_type": "code",
      "metadata": {
        "id": "v__W2PIerEya"
      },
      "source": [
        "boston_data = datasets.load_boston()"
      ],
      "execution_count": 2,
      "outputs": []
    },
    {
      "cell_type": "code",
      "metadata": {
        "id": "Hx71apd6rQ-F"
      },
      "source": [
        "# get features and labels from the data\r\n",
        "\r\n",
        "X = boston_data.data\r\n",
        "y = boston_data.target"
      ],
      "execution_count": 3,
      "outputs": []
    },
    {
      "cell_type": "code",
      "metadata": {
        "colab": {
          "base_uri": "https://localhost:8080/"
        },
        "id": "giGFqGDQrQ3M",
        "outputId": "3100e11b-6375-4b9c-9a18-7bc4375fcce1"
      },
      "source": [
        "X.shape, y.shape"
      ],
      "execution_count": 4,
      "outputs": [
        {
          "output_type": "execute_result",
          "data": {
            "text/plain": [
              "((506, 13), (506,))"
            ]
          },
          "metadata": {
            "tags": []
          },
          "execution_count": 4
        }
      ]
    },
    {
      "cell_type": "code",
      "metadata": {
        "colab": {
          "base_uri": "https://localhost:8080/",
          "height": 283
        },
        "id": "rydcgrTUtHPF",
        "outputId": "1fe7ec57-3430-4955-d5b5-54307b36333a"
      },
      "source": [
        "plt.scatter(X[:,5], y)"
      ],
      "execution_count": 9,
      "outputs": [
        {
          "output_type": "execute_result",
          "data": {
            "text/plain": [
              "<matplotlib.collections.PathCollection at 0x7fe52b7b2400>"
            ]
          },
          "metadata": {
            "tags": []
          },
          "execution_count": 9
        },
        {
          "output_type": "display_data",
          "data": {
            "image/png": "[encoded data removed]",
            "text/plain": [
              "<Figure size 432x288 with 1 Axes>"
            ]
          },
          "metadata": {
            "tags": [],
            "needs_background": "light"
          }
        }
      ]
    },
    {
      "cell_type": "code",
      "metadata": {
        "id": "qRS7CIROrhqk"
      },
      "source": [
        "# split training and testing data\r\n",
        "\r\n",
        "X_train, X_test, y_train, y_test = train_test_split(X, y, test_size=0.2)"
      ],
      "execution_count": 5,
      "outputs": []
    },
    {
      "cell_type": "code",
      "metadata": {
        "id": "7OVeZwk_r0f2"
      },
      "source": [
        "# create model\r\n",
        "\r\n",
        "l_reg_model = linear_model.LinearRegression()"
      ],
      "execution_count": 10,
      "outputs": []
    },
    {
      "cell_type": "code",
      "metadata": {
        "colab": {
          "base_uri": "https://localhost:8080/"
        },
        "id": "LUBYGccir19d",
        "outputId": "5178fb4c-0243-4952-b2e5-749cb9237a26"
      },
      "source": [
        "# train model\r\n",
        "\r\n",
        "l_reg_model.fit(X_train, y_train)"
      ],
      "execution_count": 11,
      "outputs": [
        {
          "output_type": "execute_result",
          "data": {
            "text/plain": [
              "LinearRegression(copy_X=True, fit_intercept=True, n_jobs=None, normalize=False)"
            ]
          },
          "metadata": {
            "tags": []
          },
          "execution_count": 11
        }
      ]
    },
    {
      "cell_type": "code",
      "metadata": {
        "colab": {
          "base_uri": "https://localhost:8080/"
        },
        "id": "oRYx1c2qt5lG",
        "outputId": "f4e28390-9056-4eec-8a2e-909e496dead1"
      },
      "source": [
        "predictions = l_reg_model.predict(X_test)\r\n",
        "\r\n",
        "print(predictions)"
      ],
      "execution_count": 12,
      "outputs": [
        {
          "output_type": "stream",
          "text": [
            "[15.33963732 25.01040285 34.74712929 15.01206764 17.4131176  20.89559598\n",
            " 20.32026722 19.31506512 18.30518832 24.74262739 21.97220113 13.34352154\n",
            " 18.67574491 22.84934578 27.48500177 23.10487179 23.8189759  22.39407336\n",
            " 26.7489952  13.98340441 23.15193568 14.74958832 25.45993309 16.79592167\n",
            " 28.51170589 21.96048164 31.60150164 17.43010072 25.38714768 28.44766554\n",
            " 29.6515557  15.26800057 33.54679473 10.00326728 24.3253606  24.93674556\n",
            " 35.32027276 31.33395686 19.55837248 16.78798515 17.52863529 18.50418338\n",
            " 40.17928395 25.02730532 27.88054647 35.36231915 34.43309071 31.61658991\n",
            " 20.1441251  22.64080823 15.75298025  9.99859505 22.67757778 30.94867112\n",
            " 21.47696164 23.58169948 28.45598043 19.25933065 22.56342608 18.77912596\n",
            " 34.68874355  6.77073161 37.39517837 18.33468646 23.49192694 23.51945248\n",
            " 17.98735966 24.31283066 17.26509279 32.14998809  8.222947   19.91165724\n",
            " 36.92072517 22.57979217 20.61765979 33.68948479 40.20742307  8.99817834\n",
            "  8.85474091 20.68392393 17.70680567 19.3313298  21.11272248 13.35341171\n",
            " 30.46562727 25.16647725 14.66679568 41.75905055  8.40819161 20.86915561\n",
            " 21.67538768 23.66489603 35.95606309 13.68464098 30.50542905 19.88845393\n",
            " 23.0321284  18.02325541 27.91969982 11.44299482 20.78465452 24.99780983]\n"
          ],
          "name": "stdout"
        }
      ]
    },
    {
      "cell_type": "code",
      "metadata": {
        "colab": {
          "base_uri": "https://localhost:8080/"
        },
        "id": "tfG4fPgOuU5o",
        "outputId": "2c528a2a-4c33-47bd-d962-2888d99c5118"
      },
      "source": [
        "print(\"R-squared value\", l_reg_model.score(X, y))"
      ],
      "execution_count": 13,
      "outputs": [
        {
          "output_type": "stream",
          "text": [
            "R-squared value 0.7400945307020026\n"
          ],
          "name": "stdout"
        }
      ]
    },
    {
      "cell_type": "code",
      "metadata": {
        "colab": {
          "base_uri": "https://localhost:8080/"
        },
        "id": "hg6T3H5EunaL",
        "outputId": "828bdb2d-cacd-4661-d082-7c4f24910f6c"
      },
      "source": [
        "print(\"coef\", l_reg_model.coef_)   # coefficients"
      ],
      "execution_count": 14,
      "outputs": [
        {
          "output_type": "stream",
          "text": [
            "coef [-1.14521247e-01  4.09847580e-02  3.16963776e-02  2.54267688e+00\n",
            " -1.75299911e+01  3.83854871e+00 -8.66813979e-03 -1.48014984e+00\n",
            "  3.25094187e-01 -1.26620190e-02 -9.68074384e-01  9.81294995e-03\n",
            " -5.06785371e-01]\n"
          ],
          "name": "stdout"
        }
      ]
    },
    {
      "cell_type": "code",
      "metadata": {
        "colab": {
          "base_uri": "https://localhost:8080/"
        },
        "id": "KFC5Mwlxu1iu",
        "outputId": "f8d0cfb0-e055-431a-d52a-9ee5535dc951"
      },
      "source": [
        "print(\"intercept\", l_reg_model.intercept_)"
      ],
      "execution_count": 15,
      "outputs": [
        {
          "output_type": "stream",
          "text": [
            "intercept 36.64099811860599\n"
          ],
          "name": "stdout"
        }
      ]
    }
  ]
}